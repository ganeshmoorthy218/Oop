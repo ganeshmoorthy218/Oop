{
  "nbformat": 4,
  "nbformat_minor": 0,
  "metadata": {
    "colab": {
      "provenance": []
    },
    "kernelspec": {
      "name": "python3",
      "display_name": "Python 3"
    },
    "language_info": {
      "name": "python"
    }
  },
  "cells": [
    {
      "cell_type": "markdown",
      "source": [
        "#1. What is Object-Oriented Programming (OOP)\n",
        "- Object-Oriented Programming (OOP) is a programming paradigm based on the concept of \"objects\", which can contain data (in the form of fields, often called attributes or properties) and code (in the form of procedures, often called methods)."
      ],
      "metadata": {
        "id": "cdR7-ZgywJri"
      }
    },
    {
      "cell_type": "markdown",
      "source": [
        "#2.What is a class in OOP\n",
        "-In Object-Oriented Programming (OOP), a class is like a blueprint or template for creating objects. It defines the attributes (data) and methods (functions/behavior) that the objects created from the class will have.\n",
        "\n"
      ],
      "metadata": {
        "id": "YvSy-Km1wsFV"
      }
    },
    {
      "cell_type": "markdown",
      "source": [
        "#3.What is an object in OOP\n",
        "-In Object-Oriented Programming (OOP), an object is a self-contained unit that bundles data (attributes) and the functions (methods) that operate on that data.\n",
        "\n",
        "It’s an instance of a class.\n",
        "\n"
      ],
      "metadata": {
        "id": "q88cLTJMxEId"
      }
    },
    {
      "cell_type": "markdown",
      "source": [
        "# 4.What is the difference between abstraction and encapsulation\n",
        "-  Here's the difference in just a few lines:\n",
        "\n",
        "- **Abstraction** hides the **complexity** by showing only the **essential features** of an object.  \n",
        "- **Encapsulation** hides the **internal details** by restricting direct access to an object's data.\n",
        "\n",
        "👉 **Abstraction = What it does**  \n",
        "👉 **Encapsulation = How it's protected**\n"
      ],
      "metadata": {
        "id": "skSgv9J8yA0C"
      }
    },
    {
      "cell_type": "markdown",
      "source": [
        "# 5. What are dunder methods in Python\n",
        "- **Dunder methods** in Python are special methods with names surrounded by **double underscores** (e.g., `__init__`, `__str__`).  \n",
        "They let you define how your object behaves with **built-in operations** like printing, adding, or comparing.\n",
        "\n",
        "👉 Example: `__init__` runs when you create an object, `__str__` defines how it looks when printed."
      ],
      "metadata": {
        "id": "ml30mW_9yvWn"
      }
    },
    {
      "cell_type": "markdown",
      "source": [
        "# 6.Explain the concept of inheritance in OOP\n",
        "- Inheritance is a feature in Object-Oriented Programming where a child class (or subclass) can inherit properties and methods from a parent class (or superclass).\n",
        "\n",
        "This promotes code reuse and helps in building a logical hierarchy.\n",
        "\n"
      ],
      "metadata": {
        "id": "lGQVrzn3zFNJ"
      }
    },
    {
      "cell_type": "markdown",
      "source": [
        "# 7.What is polymorphism in OOP\n",
        "- Polymorphism means \"many forms.\" In Object-Oriented Programming, it allows the same interface or method name to behave differently depending on the object that’s using it."
      ],
      "metadata": {
        "id": "-HIT6yRrzeK7"
      }
    },
    {
      "cell_type": "markdown",
      "source": [
        "# 8.How is encapsulation achieved in Python\n",
        "- Encapsulation in Python is achieved by restricting access to an object's internal state and only allowing modification through public methods. This is done using access modifiers to control how the internal data is accessed and modified.\n",
        "\n"
      ],
      "metadata": {
        "id": "cNNQ0Ugnz-mE"
      }
    },
    {
      "cell_type": "markdown",
      "source": [
        "#9.What is a constructor in Python\n",
        "- In Python, a constructor is a special method that is used to initialize objects when they are created. The constructor method is defined as __init__, and it's automatically called when an instance of a class is created.\n",
        "\n"
      ],
      "metadata": {
        "id": "8rjbvWuB0Nu7"
      }
    },
    {
      "cell_type": "markdown",
      "source": [
        "#10.What are class and static methods in Python\n",
        "- In Python:\n",
        "\n",
        "- **Class Method**: A method bound to the class, not the instance. It takes `cls` as the first parameter and is used to operate on class-level data. It’s defined with the `@classmethod` decorator.\n",
        "\n",
        "- **Static Method**: A method bound to the class, but doesn’t access class or instance data. It behaves like a regular function. It’s defined with the `@staticmethod` decorator.\n",
        "\n",
        "Both can be called on the class itself, without creating an instance.\n"
      ],
      "metadata": {
        "id": "gHgKD4Yh0X4e"
      }
    },
    {
      "cell_type": "markdown",
      "source": [
        "#11.What is method overloading in Python\n",
        "- Method overloading in Python refers to defining multiple methods with the same name but with different parameter signatures (i.e., different number or types of parameters).\n",
        "\n",
        "However, Python doesn't support true method overloading like other languages (e.g., Java). Instead, you can achieve similar behavior by using default arguments or variable-length argument lists (*args and **kwargs)."
      ],
      "metadata": {
        "id": "fGnrMWIR03m8"
      }
    },
    {
      "cell_type": "markdown",
      "source": [
        "#12.What is method overriding in OOP\n",
        "- Method overriding is a concept in Object-Oriented Programming (OOP) where a child class provides a specific implementation of a method that is already defined in its parent class. The child class method overrides the parent class method, allowing it to provide its own behavior."
      ],
      "metadata": {
        "id": "GYVSGeX71J8q"
      }
    },
    {
      "cell_type": "markdown",
      "source": [
        "#13.What is a property decorator in Python\n",
        "- In Python, the @property decorator is used to define getter methods for attributes, allowing you to access them like regular attributes, but with additional logic.\n",
        "\n",
        "Using the @property decorator, you can define a method that acts like an attribute but includes logic for getting (and optionally setting) its value. This provides an encapsulation mechanism without directly exposing internal data.\n",
        "\n"
      ],
      "metadata": {
        "id": "V8M13prp1S_3"
      }
    },
    {
      "cell_type": "markdown",
      "source": [
        "#14.Why is polymorphism important in OOP\n",
        "- Polymorphism is important in Object-Oriented Programming because it allows objects of different classes to be treated through the same interface, enabling flexible, extensible, and cleaner code.\n",
        "\n"
      ],
      "metadata": {
        "id": "CIMeLMlrR6Ss"
      }
    },
    {
      "cell_type": "markdown",
      "source": [
        "#15.What is an abstract class in Python\n",
        "- An abstract class in Python is a class that cannot be instantiated directly and is meant to be inherited by other classes. It often contains abstract methods—methods that are declared but not implemented—which must be defined by any subclass.\n",
        "\n"
      ],
      "metadata": {
        "id": "0ipx5is1SDkW"
      }
    },
    {
      "cell_type": "markdown",
      "source": [
        "#16.What are the advantages of OOP\n",
        "- **Reusability**: Use existing code through inheritance.  \n",
        "- **Modularity**: Code is organized into separate classes.  \n",
        "- **Encapsulation**: Protects data and keeps it secure.  \n",
        "- **Polymorphism**: Same method works differently for different objects.  \n",
        "- **Easy Maintenance**: Easier to update, test, and debug code."
      ],
      "metadata": {
        "id": "dxJJf9AQSNx1"
      }
    },
    {
      "cell_type": "markdown",
      "source": [
        "#17. What is the difference between a class variable and an instance variable\n",
        "- **Class variable** is shared by **all instances** of a class.  \n",
        "- **Instance variable** is **unique** to each object.  \n",
        "- Class variables are defined **outside methods**, instance variables are defined using `self` **inside methods**."
      ],
      "metadata": {
        "id": "-rnyn16WSco-"
      }
    },
    {
      "cell_type": "markdown",
      "source": [
        "#18.What is multiple inheritance in Python\n",
        "- Multiple inheritance means a class can inherit from more than one parent class.\n",
        "This allows a child class to use attributes and methods from multiple base classes.\n",
        "\n"
      ],
      "metadata": {
        "id": "NG0BM9CzSsxw"
      }
    },
    {
      "cell_type": "markdown",
      "source": [
        "#19.Explain the purpose of ‘’__str__’ and ‘__repr__’ ‘ methods in Python\n",
        "- **`__str__`** returns a **user-friendly** string, used by `print()` and `str()`.  \n",
        "- **`__repr__`** returns a **developer-friendly** string, used by `repr()` or in the Python shell.  \n",
        "- `__str__` is for display, `__repr__` is for debugging."
      ],
      "metadata": {
        "id": "C8xoS1x3S3u5"
      }
    },
    {
      "cell_type": "markdown",
      "source": [
        "#20.What is the significance of the ‘super()’ function in Python\n",
        "- **`super()`** in Python is used to **call methods from a parent class**.  \n",
        "It helps in **accessing inherited methods** without naming the parent class directly, especially useful in **multiple inheritance** and constructor chaining.\n",
        "\n",
        "   It makes your code **cleaner**, **more maintainable**, and supports **methodoverriding**."
      ],
      "metadata": {
        "id": "HGj89KUjTM2Y"
      }
    },
    {
      "cell_type": "markdown",
      "source": [
        "#21.What is the significance of the __del__ method in Python\n",
        "- The __del__ method in Python is a destructor that is called when an object is about to be destroyed or deleted. It is used for cleaning up resources, such as closing files or releasing network connections, before the object is removed from memory.\n",
        "\n",
        "**Key Points**:\n",
        "Automatic Cleanup: It allows you to release resources before an object is destroyed.\n",
        "\n",
        "Called when object is garbage collected: Python uses garbage collection, and __del__ is invoked when no references to the object remain.\n",
        "\n"
      ],
      "metadata": {
        "id": "C1J7x0ZmTqxn"
      }
    },
    {
      "cell_type": "markdown",
      "source": [
        "#22.What is the difference between @staticmethod and @classmethod in Python\n",
        "- Here’s the difference in a few lines:\n",
        "\n",
        "@staticmethod: A method that doesn’t take self or cls as the first parameter. It behaves like a regular function but belongs to the class. It doesn’t access or modify class/instance attributes.\n",
        "\n",
        "@classmethod: A method that takes cls (the class itself) as the first parameter. It can access and modify class-level attributes but not instance-level attributes.\n",
        "\n"
      ],
      "metadata": {
        "id": "zkoBFZYpT16_"
      }
    },
    {
      "cell_type": "markdown",
      "source": [
        "#23. How does polymorphism work in Python with inheritance\n",
        "- Polymorphism in Python allows objects of different classes to be treated as objects of a common base class, especially when they share the same method signature. This is usually achieved through inheritance."
      ],
      "metadata": {
        "id": "tOOb3F6VUEeI"
      }
    },
    {
      "cell_type": "markdown",
      "source": [
        "#24.What is method chaining in Python OOP\n",
        "- Method chaining is a programming technique where multiple methods are called on the same object in a single line. Each method returns the object itself (or a related object), allowing you to \"chain\" multiple method calls together."
      ],
      "metadata": {
        "id": "5JQpKh2AUNzg"
      }
    },
    {
      "cell_type": "markdown",
      "source": [
        "#25.What is the purpose of the __call__ method in Python\n",
        "- The __call__ method in Python allows an object to be called like a function. When defined in a class, it enables instances of that class to behave as callable objects, performing actions when invoked with parentheses ()."
      ],
      "metadata": {
        "id": "5rSIoRDPUWIF"
      }
    },
    {
      "cell_type": "code",
      "source": [
        "#Practical Questions"
      ],
      "metadata": {
        "id": "XxWUs5zBVsb-"
      },
      "execution_count": null,
      "outputs": []
    },
    {
      "cell_type": "code",
      "source": [
        "#1. Create a parent class Animal with a method speak() that prints a generic message. Create a child class Dog that overrides the speak() method to print \"Bark!\".\n",
        "# Parent class\n",
        "class Animal:\n",
        "    def speak(self):\n",
        "        print(\"This animal makes a sound.\")\n",
        "\n",
        "# Child class\n",
        "class Dog(Animal):\n",
        "    def speak(self):\n",
        "      print(\"Bark!\")"
      ],
      "metadata": {
        "id": "VBsPB5t_VvsF"
      },
      "execution_count": 5,
      "outputs": []
    },
    {
      "cell_type": "code",
      "source": [
        "dog = Dog()\n",
        "dog.speak()"
      ],
      "metadata": {
        "colab": {
          "base_uri": "https://localhost:8080/"
        },
        "id": "hKnVEB0uYTc6",
        "outputId": "f204cdfa-9668-45e5-c949-d1158b782836"
      },
      "execution_count": 6,
      "outputs": [
        {
          "output_type": "stream",
          "name": "stdout",
          "text": [
            "Bark!\n"
          ]
        }
      ]
    },
    {
      "cell_type": "code",
      "source": [
        "#2.Write a program to create an abstract class Shape with a method area(). Derive classes Circle and Rectangle from it and implement the area() method in both.\n",
        "\n",
        "from abc import ABC, abstractmethod\n",
        "import math\n",
        "\n",
        "# Abstract class\n",
        "class Shape(ABC):\n",
        "    @abstractmethod\n",
        "    def area(self):\n",
        "        pass\n",
        "\n",
        "# Derived class for Circle\n",
        "class Circle(Shape):\n",
        "    def __init__(self, radius):\n",
        "        self.radius = radius\n",
        "\n",
        "    def area(self):\n",
        "        return math.pi * (self.radius ** 2)\n",
        "\n",
        "# Derived class for Rectangle\n",
        "class Rectangle(Shape):\n",
        "    def __init__(self, width, height):\n",
        "        self.width = width\n",
        "        self.height = height\n",
        "\n",
        "    def area(self):\n",
        "        return self.width * self.height\n",
        "\n",
        "# Example usage\n",
        "if __name__ == \"__main__\":\n",
        "    circle = Circle(5)\n",
        "    print(f\"Area of the circle: {circle.area():.2f}\")\n",
        "\n",
        "    rectangle = Rectangle(4, 6)\n",
        "    print(f\"Area of the rectangle: {rectangle.area()}\")"
      ],
      "metadata": {
        "colab": {
          "base_uri": "https://localhost:8080/"
        },
        "id": "XGBU-YMiYa5n",
        "outputId": "76f81b49-7046-40cf-bc59-d75a741ecb04"
      },
      "execution_count": 7,
      "outputs": [
        {
          "output_type": "stream",
          "name": "stdout",
          "text": [
            "Area of the circle: 78.54\n",
            "Area of the rectangle: 24\n"
          ]
        }
      ]
    },
    {
      "cell_type": "code",
      "source": [
        "#3.Implement a multi-level inheritance scenario where a class Vehicle has an attribute type. Derive a class Car and further derive a class ElectricCar that adds a battery attribute.\n",
        "# Base class\n",
        "class Vehicle:\n",
        "    def __init__(self, vehicle_type):\n",
        "        self.vehicle_type = vehicle_type\n",
        "\n",
        "    def display_type(self):\n",
        "        print(f\"Vehicle Type: {self.vehicle_type}\")\n",
        "\n",
        "# Derived class\n",
        "class Car(Vehicle):\n",
        "    def __init__(self, vehicle_type, model):\n",
        "        super().__init__(vehicle_type)  # Call the constructor of Vehicle\n",
        "        self.model = model\n",
        "\n",
        "    def display_info(self):\n",
        "        self.display_type()  # Call the method from Vehicle\n",
        "        print(f\"Car Model: {self.model}\")\n",
        "\n",
        "# Further derived class\n",
        "class ElectricCar(Car):\n",
        "    def __init__(self, vehicle_type, model, battery):\n",
        "        super().__init__(vehicle_type, model)  # Call the constructor of Car\n",
        "        self.battery = battery\n",
        "\n",
        "    def display_info(self):\n",
        "        super().display_info()  # Call the method from Car\n",
        "        print(f\"Battery Capacity: {self.battery} kWh\")\n",
        "\n",
        "# Example usage\n",
        "if __name__ == \"__main__\":\n",
        "    vehicle = Vehicle(\"General Vehicle\")\n",
        "    vehicle.display_type()  # Output: Vehicle Type: General Vehicle\n",
        "\n",
        "    car = Car(\"Car\", \"Toyota Camry\")\n",
        "    car.display_info()\n",
        "\n",
        "    electric_car = ElectricCar(\"Electric Car\", \"Tesla Model S\", 100)\n",
        "    electric_car.display_info()\n",
        ""
      ],
      "metadata": {
        "colab": {
          "base_uri": "https://localhost:8080/"
        },
        "id": "vrDLbxuKY3MT",
        "outputId": "641b04ab-a240-43f8-d28c-8f850ea3dcfe"
      },
      "execution_count": 8,
      "outputs": [
        {
          "output_type": "stream",
          "name": "stdout",
          "text": [
            "Vehicle Type: General Vehicle\n",
            "Vehicle Type: Car\n",
            "Car Model: Toyota Camry\n",
            "Vehicle Type: Electric Car\n",
            "Car Model: Tesla Model S\n",
            "Battery Capacity: 100 kWh\n"
          ]
        }
      ]
    },
    {
      "cell_type": "code",
      "source": [
        "#4.Demonstrate polymorphism by creating a base class Bird with a method fly(). Create two derived classes Sparrow and Penguin that override the fly() method.\n",
        "# Base class\n",
        "class Bird:\n",
        "    def fly(self):\n",
        "        print(\"This bird can fly.\")\n",
        "\n",
        "# Derived class for Sparrow\n",
        "class Sparrow(Bird):\n",
        "    def fly(self):\n",
        "        print(\"Sparrow flies high in the sky!\")\n",
        "\n",
        "# Derived class for Penguin\n",
        "class Penguin(Bird):\n",
        "    def fly(self):\n",
        "        print(\"Penguins cannot fly, but they are great swimmers!\")\n",
        "\n",
        "# Function to demonstrate polymorphism\n",
        "def bird_fly(bird):\n",
        "    bird.fly()\n",
        "\n",
        "# Example usage\n",
        "if __name__ == \"__main__\":\n",
        "    sparrow = Sparrow()\n",
        "    penguin = Penguin()\n",
        "\n",
        "    bird_fly(sparrow)\n",
        "    bird_fly(penguin)"
      ],
      "metadata": {
        "colab": {
          "base_uri": "https://localhost:8080/"
        },
        "id": "HA4yupyLZN3-",
        "outputId": "94212616-9478-4420-8918-a35407fbe02b"
      },
      "execution_count": 9,
      "outputs": [
        {
          "output_type": "stream",
          "name": "stdout",
          "text": [
            "Sparrow flies high in the sky!\n",
            "Penguins cannot fly, but they are great swimmers!\n"
          ]
        }
      ]
    },
    {
      "cell_type": "code",
      "source": [
        "#5. Write a program to demonstrate encapsulation by creating a class BankAccount with private attributes balance and methods to deposit, withdraw, and check balance.\n",
        "class BankAccount:\n",
        "    def __init__(self, initial_balance=0):\n",
        "        self.__balance = initial_balance  # Private attribute\n",
        "\n",
        "    def deposit(self, amount):\n",
        "        if amount > 0:\n",
        "            self.__balance += amount\n",
        "            print(f\"Deposited: ${amount:.2f}\")\n",
        "        else:\n",
        "            print(\"Deposit amount must be positive.\")\n",
        "\n",
        "    def withdraw(self, amount):\n",
        "        if 0 < amount <= self.__balance:\n",
        "            self.__balance -= amount\n",
        "            print(f\"Withdrew: ${amount:.2f}\")\n",
        "        else:\n",
        "            print(\"Insufficient funds or invalid withdrawal amount.\")\n",
        "\n",
        "    def check_balance(self):\n",
        "        print(f\"Current balance: ${self.__balance:.2f}\")\n",
        "\n",
        "# Example usage\n",
        "if __name__ == \"__main__\":\n",
        "    account = BankAccount(100)\n",
        "    account.check_balance()\n",
        "    account.deposit(50)\n",
        "    account.check_balance()\n",
        "    account.withdraw(30)\n",
        "    account.check_balance()\n",
        "    account.withdraw(200)\n",
        "    account.deposit(-10)"
      ],
      "metadata": {
        "colab": {
          "base_uri": "https://localhost:8080/"
        },
        "id": "6iDkWucWfynB",
        "outputId": "5b95ce42-1e2b-42e4-bf5a-8582df51455d"
      },
      "execution_count": 10,
      "outputs": [
        {
          "output_type": "stream",
          "name": "stdout",
          "text": [
            "Current balance: $100.00\n",
            "Deposited: $50.00\n",
            "Current balance: $150.00\n",
            "Withdrew: $30.00\n",
            "Current balance: $120.00\n",
            "Insufficient funds or invalid withdrawal amount.\n",
            "Deposit amount must be positive.\n"
          ]
        }
      ]
    },
    {
      "cell_type": "code",
      "source": [
        "#6.Demonstrate runtime polymorphism using a method play() in a base class Instrument. Derive classes Guitar and Piano that implement their own version of play().\n",
        "# Base class\n",
        "class Instrument:\n",
        "    def play(self):\n",
        "        print(\"Playing the instrument.\")\n",
        "\n",
        "# Derived class for Guitar\n",
        "class Guitar(Instrument):\n",
        "    def play(self):\n",
        "        print(\"Strumming the guitar!\")\n",
        "\n",
        "# Derived class for Piano\n",
        "class Piano(Instrument):\n",
        "    def play(self):\n",
        "        print(\"Playing the piano keys!\")\n",
        "\n",
        "# Function to demonstrate runtime polymorphism\n",
        "def perform(instrument):\n",
        "    instrument.play()\n",
        "\n",
        "# Example usage\n",
        "if __name__ == \"__main__\":\n",
        "    guitar = Guitar()\n",
        "    piano = Piano()\n",
        "\n",
        "    perform(guitar)\n",
        "    perform(piano)"
      ],
      "metadata": {
        "colab": {
          "base_uri": "https://localhost:8080/"
        },
        "id": "MbDsHbOBgTpt",
        "outputId": "cbdc18d0-8d2d-4941-a340-a7ff013837e5"
      },
      "execution_count": 11,
      "outputs": [
        {
          "output_type": "stream",
          "name": "stdout",
          "text": [
            "Strumming the guitar!\n",
            "Playing the piano keys!\n"
          ]
        }
      ]
    },
    {
      "cell_type": "code",
      "source": [
        "#7.Create a class MathOperations with a class method add_numbers() to add two numbers and a static method subtract_numbers() to subtract two numbers.\n",
        "class MathOperations:\n",
        "    @classmethod\n",
        "    def add_numbers(cls, a, b):\n",
        "        \"\"\"Class method to add two numbers.\"\"\"\n",
        "        return a + b\n",
        "\n",
        "    @staticmethod\n",
        "    def subtract_numbers(a, b):\n",
        "        \"\"\"Static method to subtract two numbers.\"\"\"\n",
        "        return a - b\n",
        "\n",
        "# Example usage\n",
        "if __name__ == \"__main__\":\n",
        "    # Using the class method to add numbers\n",
        "    sum_result = MathOperations.add_numbers(10, 5)\n",
        "    print(f\"Sum: {sum_result}\")  # Output: Sum: 15\n",
        "\n",
        "    # Using the static method to subtract numbers\n",
        "    difference_result = MathOperations.subtract_numbers(10, 5)\n",
        "    print(f\"Difference: {difference_result}\")"
      ],
      "metadata": {
        "colab": {
          "base_uri": "https://localhost:8080/"
        },
        "id": "NWcAT39OgksL",
        "outputId": "015da5fb-d96a-4c54-9be7-782a910178bb"
      },
      "execution_count": 12,
      "outputs": [
        {
          "output_type": "stream",
          "name": "stdout",
          "text": [
            "Sum: 15\n",
            "Difference: 5\n"
          ]
        }
      ]
    },
    {
      "cell_type": "code",
      "source": [
        "# 8. Implement a class Person with a class method to count the total number of persons created.\n",
        "class Person:\n",
        "    # Class variable to keep track of the number of Person instances\n",
        "    total_persons = 0\n",
        "\n",
        "    def __init__(self, name):\n",
        "        self.name = name\n",
        "        Person.total_persons += 1  # Increment the count whenever a new instance is created\n",
        "\n",
        "    @classmethod\n",
        "    def count_persons(cls):\n",
        "        \"\"\"Class method to return the total number of Person instances created.\"\"\"\n",
        "        return cls.total_persons\n",
        "\n",
        "# Example usage\n",
        "if __name__ == \"__main__\":\n",
        "    person1 = Person(\"Alice\")\n",
        "    person2 = Person(\"Bob\")\n",
        "    person3 = Person(\"Charlie\")\n",
        "\n",
        "    print(f\"Total persons created: {Person.count_persons()}\")"
      ],
      "metadata": {
        "colab": {
          "base_uri": "https://localhost:8080/"
        },
        "id": "l6-qJRyFg6h8",
        "outputId": "2588aaec-8b89-4d5f-d62c-2463970eaf1d"
      },
      "execution_count": 13,
      "outputs": [
        {
          "output_type": "stream",
          "name": "stdout",
          "text": [
            "Total persons created: 3\n"
          ]
        }
      ]
    },
    {
      "cell_type": "code",
      "source": [
        "#9.Write a class Fraction with attributes numerator and denominator. Override the str method to display the fraction as \"numerator/denominator\".\n",
        "class Fraction:\n",
        "    def __init__(self, numerator, denominator):\n",
        "        if denominator == 0:\n",
        "            raise ValueError(\"Denominator cannot be zero.\")\n",
        "        self.numerator = numerator\n",
        "        self.denominator = denominator\n",
        "\n",
        "    def __str__(self):\n",
        "        return f\"{self.numerator}/{self.denominator}\"\n",
        "\n",
        "# Example usage\n",
        "if __name__ == \"__main__\":\n",
        "    fraction1 = Fraction(3, 4)\n",
        "    fraction2 = Fraction(5, 2)\n",
        "\n",
        "    print(f\"Fraction 1: {fraction1}\")\n",
        "    print(f\"Fraction 2: {fraction2}\")"
      ],
      "metadata": {
        "colab": {
          "base_uri": "https://localhost:8080/"
        },
        "id": "qMXOe9gfhQp-",
        "outputId": "729493aa-20f5-4ae8-d739-5267cfb242d9"
      },
      "execution_count": 14,
      "outputs": [
        {
          "output_type": "stream",
          "name": "stdout",
          "text": [
            "Fraction 1: 3/4\n",
            "Fraction 2: 5/2\n"
          ]
        }
      ]
    },
    {
      "cell_type": "code",
      "source": [
        "#10.Demonstrate operator overloading by creating a class Vector and overriding the add method to add two vectors.\n",
        "class Vector:\n",
        "    def __init__(self, x, y):\n",
        "        self.x = x\n",
        "        self.y = y\n",
        "\n",
        "    def __add__(self, other):\n",
        "        \"\"\"Override the + operator to add two vectors.\"\"\"\n",
        "        if isinstance(other, Vector):\n",
        "            return Vector(self.x + other.x, self.y + other.y)\n",
        "        return NotImplemented\n",
        "\n",
        "    def __str__(self):\n",
        "        \"\"\"Override the str method to display the vector.\"\"\"\n",
        "        return f\"Vector({self.x}, {self.y})\"\n",
        "\n",
        "# Example usage\n",
        "if __name__ == \"__main__\":\n",
        "    vector1 = Vector(2, 3)\n",
        "    vector2 = Vector(4, 5)\n",
        "\n",
        "    # Adding two vectors using the overloaded + operator\n",
        "    result_vector = vector1 + vector2\n",
        "\n",
        "    print(f\"Vector 1: {vector1}\")\n",
        "    print(f\"Vector 2: {vector2}\")\n",
        "    print(f\"Resultant Vector: {result_vector}\")"
      ],
      "metadata": {
        "colab": {
          "base_uri": "https://localhost:8080/"
        },
        "id": "UZvoJ8uChetz",
        "outputId": "9c1317aa-1b43-4ec3-8c21-c865eec2cef2"
      },
      "execution_count": 15,
      "outputs": [
        {
          "output_type": "stream",
          "name": "stdout",
          "text": [
            "Vector 1: Vector(2, 3)\n",
            "Vector 2: Vector(4, 5)\n",
            "Resultant Vector: Vector(6, 8)\n"
          ]
        }
      ]
    },
    {
      "cell_type": "code",
      "source": [
        "#11.Create a class Person with attributes name and age. Add a method greet() that prints \"Hello, my name is {name} and I am {age} years old.\"\n",
        "class Person:\n",
        "    def __init__(self, name, age):\n",
        "        self.name = name\n",
        "        self.age = age\n",
        "\n",
        "    def greet(self):\n",
        "        \"\"\"Prints a greeting message.\"\"\"\n",
        "        print(f\"Hello, my name is {self.name} and I am {self.age} years old.\")\n",
        "\n",
        "# Example usage\n",
        "if __name__ == \"__main__\":\n",
        "    person1 = Person(\"Ganesh\", 30)\n",
        "    person2 = Person(\"Bob\", 25)\n",
        "\n",
        "    person1.greet()\n",
        "    person2.greet()"
      ],
      "metadata": {
        "colab": {
          "base_uri": "https://localhost:8080/"
        },
        "id": "YFh_apqihy8t",
        "outputId": "b753a220-de8f-46f0-b85e-a96c4253842c"
      },
      "execution_count": 17,
      "outputs": [
        {
          "output_type": "stream",
          "name": "stdout",
          "text": [
            "Hello, my name is Ganesh and I am 30 years old.\n",
            "Hello, my name is Bob and I am 25 years old.\n"
          ]
        }
      ]
    },
    {
      "cell_type": "code",
      "source": [
        "#12. Implement a class Student with attributes name and grades. Create a method average_grade() to compute the average of the grades.\n",
        "class Student:\n",
        "    def __init__(self, name, grades):\n",
        "        self.name = name\n",
        "        self.grades = grades  # Expecting grades to be a list of numbers\n",
        "\n",
        "    def average_grade(self):\n",
        "        \"\"\"Compute and return the average of the grades.\"\"\"\n",
        "        if not self.grades:  # Check if the grades list is empty\n",
        "            return 0\n",
        "        return sum(self.grades) / len(self.grades)\n",
        "\n",
        "# Example usage\n",
        "if __name__ == \"__main__\":\n",
        "    student1 = Student(\"Alice\", [85, 90, 78, 92])\n",
        "    student2 = Student(\"Bob\", [70, 88, 95])\n",
        "\n",
        "    print(f\"{student1.name}'s average grade: {student1.average_grade():.2f}\")\n",
        "    print(f\"{student2.name}'s average grade: {student2.average_grade():.2f}\")"
      ],
      "metadata": {
        "colab": {
          "base_uri": "https://localhost:8080/"
        },
        "id": "v47hPA7qiSdm",
        "outputId": "5d364b0e-8bf6-4219-cd1a-444bee115d38"
      },
      "execution_count": 18,
      "outputs": [
        {
          "output_type": "stream",
          "name": "stdout",
          "text": [
            "Alice's average grade: 86.25\n",
            "Bob's average grade: 84.33\n"
          ]
        }
      ]
    },
    {
      "cell_type": "code",
      "source": [
        "#13.Create a class Rectangle with methods set_dimensions() to set the dimensions and area() to calculate the area.\n",
        "class Rectangle:\n",
        "    def __init__(self):\n",
        "        self.width = 0\n",
        "        self.height = 0\n",
        "\n",
        "    def set_dimensions(self, width, height):\n",
        "        \"\"\"Set the dimensions of the rectangle.\"\"\"\n",
        "        self.width = width\n",
        "        self.height = height\n",
        "\n",
        "    def area(self):\n",
        "        \"\"\"Calculate and return the area of the rectangle.\"\"\"\n",
        "        return self.width * self.height\n",
        "\n",
        "# Example usage\n",
        "if __name__ == \"__main__\":\n",
        "    rectangle = Rectangle()\n",
        "\n",
        "    # Set dimensions of the rectangle\n",
        "    rectangle.set_dimensions(5, 10)\n",
        "\n",
        "    # Calculate and print the area\n",
        "    print(f\"Area of the rectangle: {rectangle.area()}\")"
      ],
      "metadata": {
        "colab": {
          "base_uri": "https://localhost:8080/"
        },
        "id": "1r_ACJGYikex",
        "outputId": "a61a3b19-b817-495a-f076-fec425e5ca2d"
      },
      "execution_count": 19,
      "outputs": [
        {
          "output_type": "stream",
          "name": "stdout",
          "text": [
            "Area of the rectangle: 50\n"
          ]
        }
      ]
    },
    {
      "cell_type": "code",
      "source": [
        "#14.Create a class Employee with a method calculate_salary() that computes the salary based on hours worked and hourly rate. Create a derived class Manager that adds a bonus to the salary.\n",
        "class Employee:\n",
        "    def __init__(self, name, hours_worked, hourly_rate):\n",
        "        self.name = name\n",
        "        self.hours_worked = hours_worked\n",
        "        self.hourly_rate = hourly_rate\n",
        "\n",
        "    def calculate_salary(self):\n",
        "        \"\"\"Calculate the salary based on hours worked and hourly rate.\"\"\"\n",
        "        return self.hours_worked * self.hourly_rate\n",
        "\n",
        "class Manager(Employee):\n",
        "    def __init__(self, name, hours_worked, hourly_rate, bonus):\n",
        "        super().__init__(name, hours_worked, hourly_rate)\n",
        "        self.bonus = bonus\n",
        "\n",
        "    def calculate_salary(self):\n",
        "        \"\"\"Calculate the salary including the bonus.\"\"\"\n",
        "        base_salary = super().calculate_salary()\n",
        "        return base_salary + self.bonus\n",
        "\n",
        "# Example usage\n",
        "if __name__ == \"__main__\":\n",
        "    employee = Employee(\"Alice\", 40, 200)\n",
        "    manager = Manager(\"Bob\", 40, 300, 500)\n",
        "\n",
        "    print(f\"{employee.name}'s salary: RS.{employee.calculate_salary():.2f}\")\n",
        "    print(f\"{manager.name}'s salary: RS.{manager.calculate_salary():.2f}\")"
      ],
      "metadata": {
        "colab": {
          "base_uri": "https://localhost:8080/"
        },
        "id": "Z658rAUHi0S2",
        "outputId": "a5434d92-9a2e-4372-99a5-3a6d258cdfb7"
      },
      "execution_count": 26,
      "outputs": [
        {
          "output_type": "stream",
          "name": "stdout",
          "text": [
            "Alice's salary: RS.8000.00\n",
            "Bob's salary: RS.12500.00\n"
          ]
        }
      ]
    },
    {
      "cell_type": "code",
      "source": [
        "#15. Create a class Product with attributes name, price, and quantity. Implement a method total_price() that calculates the total price of the product\n",
        "class Product:\n",
        "    def __init__(self, name, price, quantity):\n",
        "        self.name = name\n",
        "        self.price = price\n",
        "        self.quantity = quantity\n",
        "\n",
        "    def total_price(self):\n",
        "        \"\"\"Calculate and return the total price of the product.\"\"\"\n",
        "        return self.price * self.quantity\n",
        "\n",
        "# Example usage\n",
        "if __name__ == \"__main__\":\n",
        "    product1 = Product(\"Laptop\", 999.99, 2)\n",
        "    product2 = Product(\"Headphones\", 199.99, 5)\n",
        "\n",
        "    print(f\"Total price of {product1.name}: ${product1.total_price():.2f}\")\n",
        "    print(f\"Total price of {product2.name}: ${product2.total_price():.2f}\")"
      ],
      "metadata": {
        "colab": {
          "base_uri": "https://localhost:8080/"
        },
        "id": "n_fcIo34j0Li",
        "outputId": "a33e54ca-6c2f-49b1-ae7b-bf64919040db"
      },
      "execution_count": 27,
      "outputs": [
        {
          "output_type": "stream",
          "name": "stdout",
          "text": [
            "Total price of Laptop: $1999.98\n",
            "Total price of Headphones: $999.95\n"
          ]
        }
      ]
    },
    {
      "cell_type": "code",
      "source": [
        "#16. Create a class Animal with an abstract method sound(). Create two derived classes Cow and Sheep that implement the sound() method.\n",
        "from abc import ABC, abstractmethod\n",
        "\n",
        "class Animal(ABC):\n",
        "    @abstractmethod\n",
        "    def sound(self):\n",
        "        \"\"\"Abstract method to be implemented by derived classes.\"\"\"\n",
        "        pass\n",
        "\n",
        "class Cow(Animal):\n",
        "    def sound(self):\n",
        "        \"\"\"Implement the sound method for Cow.\"\"\"\n",
        "        return \"Moo\"\n",
        "\n",
        "class Sheep(Animal):\n",
        "    def sound(self):\n",
        "        \"\"\"Implement the sound method for Sheep.\"\"\"\n",
        "        return \"Baa\"\n",
        "\n",
        "# Example usage\n",
        "if __name__ == \"__main__\":\n",
        "    cow = Cow()\n",
        "    sheep = Sheep()\n",
        "\n",
        "    print(f\"Cow sound: {cow.sound()}\")\n",
        "    print(f\"Sheep sound: {sheep.sound()}\")"
      ],
      "metadata": {
        "colab": {
          "base_uri": "https://localhost:8080/"
        },
        "id": "accllWpEj_yu",
        "outputId": "4e18b26b-1abc-4adf-d447-19a8e1183beb"
      },
      "execution_count": 28,
      "outputs": [
        {
          "output_type": "stream",
          "name": "stdout",
          "text": [
            "Cow sound: Moo\n",
            "Sheep sound: Baa\n"
          ]
        }
      ]
    },
    {
      "cell_type": "code",
      "source": [
        "#17.Create a class Book with attributes title, author, and year_published. Add a method get_book_info() that returns a formatted string with the book's details.\n",
        "class Book:\n",
        "    def __init__(self, title, author, year_published):\n",
        "        self.title = title\n",
        "        self.author = author\n",
        "        self.year_published = year_published\n",
        "\n",
        "    def get_book_info(self):\n",
        "        \"\"\"Return a formatted string with the book's details.\"\"\"\n",
        "        return f\"'{self.title}' by {self.author}, published in {self.year_published}\"\n",
        "\n",
        "# Example usage\n",
        "if __name__ == \"__main__\":\n",
        "    book1 = Book(\"To Kill a Mockingbird\", \"Harper Lee\", 1960)\n",
        "    book2 = Book(\"1984\", \"George Orwell\", 1949)\n",
        "\n",
        "    print(book1.get_book_info())\n",
        "    print(book2.get_book_info())\n",
        "\n"
      ],
      "metadata": {
        "colab": {
          "base_uri": "https://localhost:8080/"
        },
        "id": "H9n7tjJtkMAd",
        "outputId": "bad45a1a-cf50-406a-fb74-349f81179943"
      },
      "execution_count": 29,
      "outputs": [
        {
          "output_type": "stream",
          "name": "stdout",
          "text": [
            "'To Kill a Mockingbird' by Harper Lee, published in 1960\n",
            "'1984' by George Orwell, published in 1949\n"
          ]
        }
      ]
    },
    {
      "cell_type": "code",
      "source": [
        "#18. Create a class House with attributes address and price. Create a derived class Mansion that adds an attribute number_of_rooms.\n",
        "class House:\n",
        "    def __init__(self, address, price):\n",
        "        self.address = address\n",
        "        self.price = price\n",
        "\n",
        "    def get_info(self):\n",
        "        \"\"\"Return a formatted string with the house's details.\"\"\"\n",
        "        return f\"House located at {self.address}, priced at ${self.price:,.2f}\"\n",
        "\n",
        "class Mansion(House):\n",
        "    def __init__(self, address, price, number_of_rooms):\n",
        "        super().__init__(address, price)  # Initialize the base class attributes\n",
        "        self.number_of_rooms = number_of_rooms\n",
        "\n",
        "    def get_info(self):\n",
        "        \"\"\"Return a formatted string with the mansion's details, including the number of rooms.\"\"\"\n",
        "        base_info = super().get_info()  # Get info from the base class\n",
        "        return f\"{base_info}, with {self.number_of_rooms} rooms\"\n",
        "\n",
        "# Example usage\n",
        "if __name__ == \"__main__\":\n",
        "    house = House(\"123 Main St\", 250000)\n",
        "    mansion = Mansion(\"456 Luxury Ave\", 1500000, 10)\n",
        "\n",
        "    print(house.get_info())\n",
        "    print(mansion.get_info())"
      ],
      "metadata": {
        "colab": {
          "base_uri": "https://localhost:8080/"
        },
        "id": "IL8GqVVzkZvY",
        "outputId": "fc089d79-e205-4cac-c35f-5b72e0b6f598"
      },
      "execution_count": 30,
      "outputs": [
        {
          "output_type": "stream",
          "name": "stdout",
          "text": [
            "House located at 123 Main St, priced at $250,000.00\n",
            "House located at 456 Luxury Ave, priced at $1,500,000.00, with 10 rooms\n"
          ]
        }
      ]
    }
  ]
}